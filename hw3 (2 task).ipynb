{
 "cells": [
  {
   "cell_type": "markdown",
   "id": "03ad6eb0",
   "metadata": {},
   "source": [
    "## 2-ое задание"
   ]
  },
  {
   "cell_type": "code",
   "execution_count": 8,
   "id": "988f7661",
   "metadata": {},
   "outputs": [],
   "source": [
    "import numpy as np"
   ]
  },
  {
   "cell_type": "code",
   "execution_count": 117,
   "id": "afcf6781",
   "metadata": {},
   "outputs": [],
   "source": [
    "# true results\n",
    "y_t = ['c','c','c','c','c','c', 'f','f','f','f','f','f','f','f','f','f', 'h','h','h','h','h','h','h','h','h']\n",
    "#predicted results\n",
    "y_p = ['c','c','c','c','h','f', 'c','c','c','c','c','c','h','h','f','f', 'c','c','c','h','h','h','h','h','h']\n",
    "\n",
    "a=np.array([[y_p[0:6].count('c'), y_p[0:6].count('f'), y_p[0:6].count('h')], \n",
    "            [y_p[6:16].count('c'), y_p[6:16].count('f'), y_p[6:16].count('h')],\n",
    "            [y_p[16:25].count('c'), y_p[16:25].count('f'), y_p[16:25].count('h')]])"
   ]
  },
  {
   "cell_type": "code",
   "execution_count": 118,
   "id": "b2e37875",
   "metadata": {},
   "outputs": [
    {
     "name": "stdout",
     "output_type": "stream",
     "text": [
      "0.308\n",
      "0.667\n",
      "0.421\n",
      "\n",
      "support:\n",
      "cat 6\n",
      "fish 10\n",
      "hen 9\n"
     ]
    }
   ],
   "source": [
    "#сделала матрицу ошибок для каждого класса и распределила на true positive false positive и тд\n",
    "tpc=4\n",
    "fpc=9\n",
    "fnc=2\n",
    "tnc=10\n",
    "\n",
    "tpf=2\n",
    "fpf=1\n",
    "fnf=8\n",
    "tnf=14\n",
    "\n",
    "tph=6\n",
    "fph=3\n",
    "fnh=3\n",
    "tnh=13\n",
    "\n",
    "#метрики для CAT\n",
    "#precision\n",
    "cat_pr = round(tpc/(fpc+tpc),3)\n",
    "print(cat_pr)\n",
    "\n",
    "#recall\n",
    "cat_r=round(tpc/(tpc+fnc),3)\n",
    "print(cat_r)\n",
    "\n",
    "#f1-score\n",
    "cat_f1=round(2*cat_pr*cat_r/(cat_pr+cat_r),3)\n",
    "print(cat_f1)\n",
    "\n",
    "#support\n",
    "cat_sup=y_t.count('c')\n",
    "fish_sup=y_t.count('f')\n",
    "hen_sup=y_t.count('h')\n",
    "print('\\n','support:', sep='')\n",
    "print('cat', cat_sup)\n",
    "print('fish',fish_sup)\n",
    "print('hen', hen_sup)"
   ]
  },
  {
   "cell_type": "code",
   "execution_count": 119,
   "id": "17a937c4",
   "metadata": {},
   "outputs": [
    {
     "name": "stdout",
     "output_type": "stream",
     "text": [
      "0.667\n",
      "0.2\n",
      "0.308\n"
     ]
    }
   ],
   "source": [
    "#метрики для FISH\n",
    "#precision\n",
    "fish_pr = round(tpf/(fpf+tpf),3)\n",
    "print(fish_pr)\n",
    "\n",
    "#recall\n",
    "fish_r=round(tpf/(tpf+fnf),3)\n",
    "print(fish_r)\n",
    "\n",
    "#f1-score\n",
    "fish_f1= round(2*fish_pr*fish_r/(fish_pr+fish_r),3)\n",
    "print(fish_f1)"
   ]
  },
  {
   "cell_type": "code",
   "execution_count": 120,
   "id": "af662981",
   "metadata": {},
   "outputs": [
    {
     "name": "stdout",
     "output_type": "stream",
     "text": [
      "0.667\n",
      "0.667\n",
      "0.667\n"
     ]
    }
   ],
   "source": [
    "#метрики для HEN\n",
    "#precision\n",
    "hen_pr = round(tph/(fph+tph),3)\n",
    "print(hen_pr)\n",
    "\n",
    "#recall\n",
    "hen_r=round(tph/(tph+fnh),3)\n",
    "print(hen_r)\n",
    "\n",
    "#f1-score\n",
    "hen_f1=round(2*hen_pr*hen_r/(hen_pr+hen_r),3)\n",
    "print(hen_f1)"
   ]
  },
  {
   "cell_type": "code",
   "execution_count": 121,
   "id": "3a3388d7",
   "metadata": {},
   "outputs": [],
   "source": [
    "accuracy=(tpc+tpf+tph)/25\n",
    "\n",
    "#macro average\n",
    "mac_avgp= round((cat_pr+fish_pr+hen_pr)/3,3)\n",
    "mac_avgr= round((cat_r+fish_r+hen_r)/3,3)\n",
    "mac_avgf= round((cat_f1+fish_f1+hen_f1)/3,3)\n",
    "\n",
    "#weighted average\n",
    "wg_avgp=round((cat_pr*cat_sup/25+fish_pr*fish_sup/25+hen_pr*hen_sup/25),3)\n",
    "wg_avgr=round((cat_r*cat_sup/25+fish_r*fish_sup/25+hen_r*hen_sup/25),3)\n",
    "wg_avgf=round((cat_f1*cat_sup/25+fish_f1*fish_sup/25+hen_f1*hen_sup/25),3)"
   ]
  },
  {
   "cell_type": "code",
   "execution_count": 123,
   "id": "971d716e",
   "metadata": {},
   "outputs": [
    {
     "name": "stdout",
     "output_type": "stream",
     "text": [
      "[[4 1 1]\n",
      " [6 2 2]\n",
      " [3 0 6]]\n",
      "\n",
      "              precision    recall  f-1 score  support\n",
      "\n",
      "         Cat      0.308     0.667      0.421        6\n",
      "        Fish      0.667     0.2        0.308       10\n",
      "         Hen      0.667     0.667      0.667        9\n",
      "\n",
      "    accuracy                           0.48        25\n",
      "   macro avg      0.547     0.511      0.465       25\n",
      "weighted avg      0.581     0.48       0.464       25\n"
     ]
    }
   ],
   "source": [
    "print(a)\n",
    "print()\n",
    "print(14*' '+'precision', ' '*3+'recall', '', 'f-1 score', '', 'support')\n",
    "print()\n",
    "print(9*' '+'Cat'+' '*5, cat_pr,' '*3, cat_r, ' '*4, cat_f1, ' '*6, cat_sup)\n",
    "print(8*' '+'Fish'+' '*5, fish_pr, ' '*3, fish_r, ' '*6, fish_f1, ' '*5, fish_sup)\n",
    "print(9*' '+'Hen'+' '*5, hen_pr,' '*3, hen_r, ' '*4, hen_f1, ' '*6, hen_sup)\n",
    "print()\n",
    "print(4*' '+'accuracy'+' '*26, accuracy, ' '*6, 25)\n",
    "print(3*' '+'macro avg'+' '*5,mac_avgp,' '*3, mac_avgr,' '*4, mac_avgf, ' '*5, 25)\n",
    "print('weighted avg'+' '*5,wg_avgp, ' '*3, wg_avgr, ' '*5, wg_avgf, ' '*5, 25)"
   ]
  },
  {
   "cell_type": "code",
   "execution_count": null,
   "id": "7d56b1f1",
   "metadata": {},
   "outputs": [],
   "source": []
  }
 ],
 "metadata": {
  "kernelspec": {
   "display_name": "Python 3 (ipykernel)",
   "language": "python",
   "name": "python3"
  },
  "language_info": {
   "codemirror_mode": {
    "name": "ipython",
    "version": 3
   },
   "file_extension": ".py",
   "mimetype": "text/x-python",
   "name": "python",
   "nbconvert_exporter": "python",
   "pygments_lexer": "ipython3",
   "version": "3.11.3"
  }
 },
 "nbformat": 4,
 "nbformat_minor": 5
}
